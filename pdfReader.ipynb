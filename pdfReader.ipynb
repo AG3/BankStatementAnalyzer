{
 "cells": [
  {
   "cell_type": "code",
   "execution_count": 5,
   "metadata": {},
   "outputs": [
    {
     "name": "stdout",
     "output_type": "stream",
     "text": [
      "Processing file ./raw_statements/20181106-statements-0798-.pdf...\n",
      "20181106-statements-0798-.txt\n",
      "Done processing file ./raw_statements/20181106-statements-0798-.pdf...\n"
     ]
    }
   ],
   "source": [
    "import pdftotext\n",
    "import re\n",
    "import glob\n",
    "\n",
    "def openChaseStatement(path,res_folder):\n",
    "    f = open(path,'rb')\n",
    "    pdf = pdftotext.PDF(f)\n",
    "    fullpdf = \"\"\n",
    "    for i in range(len(pdf)):\n",
    "        fullpdf=fullpdf+str(pdf[i])\n",
    "    fullpdf=fullpdf.replace('\\r','|')\n",
    "    fullpdf=fullpdf.replace('\\n','|')\n",
    "\n",
    "    to_csv = '\\s{2,}'\n",
    "    pg2 = re.compile(to_csv)\n",
    "    colDiv = '^'\n",
    "    fullpdf = pg2.sub(colDiv,fullpdf)\n",
    "\n",
    "    seg_select = '\\\\*start\\\\*.*?\\\\*end\\\\*'\n",
    "    pg = re.compile(seg_select)\n",
    "    res = pg.findall(fullpdf)\n",
    "\n",
    "    accounts = {}\n",
    "    cur_account = ''\n",
    "    for i in res:\n",
    "        lines = i.split('|'+colDiv)\n",
    "        seg_title = lines[0].split('*')[2]\n",
    "        if seg_title == 'summary':\n",
    "            cur_account = lines[1][:len(lines[1])]\n",
    "            accounts[cur_account] = []\n",
    "        if seg_title == 'transactiondetail':\n",
    "            for j in range(3,len(lines)-1):\n",
    "                if lines[j].count('^')<3 or lines[j][0]=='D':\n",
    "                    continue\n",
    "                parts = lines[j].split('^')\n",
    "                date = parts[0]\n",
    "                balance = parts[-1]\n",
    "                amount = parts[-2]\n",
    "                des = ''\n",
    "                for k in range(1,len(parts)-2):\n",
    "                    des += parts[k]\n",
    "                accounts[cur_account].append((date,des,amount,balance))\n",
    "\n",
    "    filename = path.split('/')[-1].split('.')[0]+'.txt'\n",
    "    print(filename)\n",
    "    f2 = open(res_folder+\"/\"+filename,'w+')\n",
    "    for i in accounts:\n",
    "        f2.write(i+'\\n')\n",
    "        for l in accounts[i]:\n",
    "            for e in l:\n",
    "                f2.write(e+'^')\n",
    "            f2.write('\\n')\n",
    "    f2.close()\n",
    "\n",
    "FileList = glob.glob(\"./raw_statements/*.pdf\")\n",
    "for f in FileList:\n",
    "    print(\"Processing file {}...\".format(f))\n",
    "    openChaseStatement(f,'statement_txt')\n",
    "    print(\"Done processing file {}...\".format(f))\n"
   ]
  },
  {
   "cell_type": "code",
   "execution_count": null,
   "metadata": {},
   "outputs": [],
   "source": []
  }
 ],
 "metadata": {
  "kernelspec": {
   "display_name": "Python 3",
   "language": "python",
   "name": "python3"
  },
  "language_info": {
   "codemirror_mode": {
    "name": "ipython",
    "version": 3
   },
   "file_extension": ".py",
   "mimetype": "text/x-python",
   "name": "python",
   "nbconvert_exporter": "python",
   "pygments_lexer": "ipython3",
   "version": "3.5.2"
  }
 },
 "nbformat": 4,
 "nbformat_minor": 2
}

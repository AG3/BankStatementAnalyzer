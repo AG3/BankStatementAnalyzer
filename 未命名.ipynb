{
 "cells": [
  {
   "cell_type": "code",
   "execution_count": 2,
   "metadata": {},
   "outputs": [
    {
     "name": "stdout",
     "output_type": "stream",
     "text": [
      "dict_keys(['Apple'])\n",
      "Done\n"
     ]
    }
   ],
   "source": [
    "class AssortTree:\n",
    "    class Node:\n",
    "        children = {}\n",
    "        total = 0\n",
    "        tag = ''\n",
    "    \n",
    "    root = Node()\n",
    "    root.tag = 'Root'\n",
    "    def addCategory(self, path):\n",
    "        c = self.root\n",
    "        for i in range(len(path)):\n",
    "            if path[i] in c.children:\n",
    "                c = c.children[path[i]]\n",
    "            else:\n",
    "                tt = AssortTree.Node()\n",
    "                c.children[path[i]] = tt\n",
    "                c = tt\n",
    "\n",
    "    def addAmonut(self, path, amount):\n",
    "        c = self.root\n",
    "        for i in range(len(path)):\n",
    "            c = c.children[path[i]]\n",
    "        c.total+=amount\n",
    "\n",
    "A = AssortTree()\n",
    "\n",
    "A.addCategory(['Apple'])\n",
    "\n",
    "\n",
    "\n",
    "print(\"Done\")"
   ]
  },
  {
   "cell_type": "code",
   "execution_count": 4,
   "metadata": {},
   "outputs": [
    {
     "name": "stdout",
     "output_type": "stream",
     "text": [
      "dict_keys(['Apple'])\n",
      "dict_keys(['Apple'])\n"
     ]
    }
   ],
   "source": [
    "print(A.root.children.keys())\n",
    "print(A.root.children['Apple'].children.keys())"
   ]
  },
  {
   "cell_type": "code",
   "execution_count": null,
   "metadata": {},
   "outputs": [],
   "source": []
  }
 ],
 "metadata": {
  "kernelspec": {
   "display_name": "Python 3",
   "language": "python",
   "name": "python3"
  },
  "language_info": {
   "codemirror_mode": {
    "name": "ipython",
    "version": 3
   },
   "file_extension": ".py",
   "mimetype": "text/x-python",
   "name": "python",
   "nbconvert_exporter": "python",
   "pygments_lexer": "ipython3",
   "version": "3.5.2"
  }
 },
 "nbformat": 4,
 "nbformat_minor": 2
}
